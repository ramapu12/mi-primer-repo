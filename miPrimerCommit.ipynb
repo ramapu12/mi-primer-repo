{
  "nbformat": 4,
  "nbformat_minor": 0,
  "metadata": {
    "colab": {
      "provenance": [],
      "authorship_tag": "ABX9TyNVYnRU/cPslGn+Y+XNkqa+",
      "include_colab_link": true
    },
    "kernelspec": {
      "name": "python3",
      "display_name": "Python 3"
    },
    "language_info": {
      "name": "python"
    }
  },
  "cells": [
    {
      "cell_type": "markdown",
      "metadata": {
        "id": "view-in-github",
        "colab_type": "text"
      },
      "source": [
        "<a href=\"https://colab.research.google.com/github/ramapu12/mi-primer-repo/blob/MiPrimeraRama/miPrimerCommit.ipynb\" target=\"_parent\"><img src=\"https://colab.research.google.com/assets/colab-badge.svg\" alt=\"Open In Colab\"/></a>"
      ]
    },
    {
      "cell_type": "code",
      "execution_count": 1,
      "metadata": {
        "colab": {
          "base_uri": "https://localhost:8080/"
        },
        "id": "H2svGGKnPlXh",
        "outputId": "aa76346c-d6bc-4c7a-b3a0-ec71ef227bb1"
      },
      "outputs": [
        {
          "output_type": "stream",
          "name": "stdout",
          "text": [
            "Mi primer commit con gitHub desde Google Colab\n"
          ]
        }
      ],
      "source": [
        "print(\"Mi primer commit con gitHub desde Google Colab\")"
      ]
    },
    {
      "cell_type": "code",
      "source": [
        "print(\"Mi segundo commit con gitHub desde Google Colab\")"
      ],
      "metadata": {
        "colab": {
          "base_uri": "https://localhost:8080/"
        },
        "id": "YpRmQvc9Ux2V",
        "outputId": "e3206784-654f-4080-97c8-5cfbb725c396"
      },
      "execution_count": 2,
      "outputs": [
        {
          "output_type": "stream",
          "name": "stdout",
          "text": [
            "Mi segundo commit con gitHub desde Google Colab\n"
          ]
        }
      ]
    }
  ]
}